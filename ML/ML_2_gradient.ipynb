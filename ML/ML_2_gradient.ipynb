{
  "nbformat": 4,
  "nbformat_minor": 0,
  "metadata": {
    "colab": {
      "provenance": []
    },
    "kernelspec": {
      "name": "python3",
      "display_name": "Python 3"
    },
    "language_info": {
      "name": "python"
    }
  },
  "cells": [
    {
      "cell_type": "code",
      "execution_count": null,
      "metadata": {
        "id": "doL1e7kOlEEE"
      },
      "outputs": [],
      "source": [
        "import matplotlib as plot\n",
        "import numpy as np\n",
        "import sympy as sym\n",
        "from matplotlib import pyplot"
      ]
    },
    {
      "cell_type": "code",
      "source": [
        "def objective(x):\n",
        "  return (x+3)**2"
      ],
      "metadata": {
        "id": "W_2h3XdrlUzf"
      },
      "execution_count": null,
      "outputs": []
    },
    {
      "cell_type": "code",
      "source": [
        "def gradient_descent1(expr,alpha, start, max_iter):\n",
        "  x_list = []\n",
        "  x = sym.symbols('x')\n",
        "  grad = sym.Derivative(expr,x).doit()\n",
        "  x_val= start\n",
        "  x_list.append(x_val)\n",
        "  for i in range(max_iter):\n",
        "    gradient = grad.subs(x,x_val)\n",
        "    x_val = x_val - (alpha*gradient)\n",
        "    x_list.append(x_val)\n",
        "    return x_list\n"
      ],
      "metadata": {
        "id": "vkxgkSvFrAq3"
      },
      "execution_count": null,
      "outputs": []
    },
    {
      "cell_type": "code",
      "source": [
        "alpha = 0.1 #Step_size\n",
        "start = 2 #Starting point\n",
        "max_iter = 30 #Limit on iterations\n",
        "x = sym.symbols('x')\n",
        "expr = (x+3)**2; #target function"
      ],
      "metadata": {
        "id": "Fwb7-5eit3dP"
      },
      "execution_count": null,
      "outputs": []
    },
    {
      "cell_type": "code",
      "source": [
        "x_cordinate = np.linspace(-15,15,100)\n",
        "pyplot.plot(x_cordinate,objective(x_cordinate))\n",
        "pyplot.plot(2,objective(2),'ro')"
      ],
      "metadata": {
        "colab": {
          "base_uri": "https://localhost:8080/",
          "height": 282
        },
        "id": "cdqB7z2_uLzf",
        "outputId": "51a1674a-0395-4784-f9cb-419e27c92d6d"
      },
      "execution_count": null,
      "outputs": [
        {
          "output_type": "execute_result",
          "data": {
            "text/plain": [
              "[<matplotlib.lines.Line2D at 0x7eff95c16050>]"
            ]
          },
          "metadata": {},
          "execution_count": 32
        },
        {
          "output_type": "display_data",
          "data": {
            "text/plain": [
              "<Figure size 432x288 with 1 Axes>"
            ],
            "image/png": "[encoded data removed]"
          },
          "metadata": {
            "needs_background": "light"
          }
        }
      ]
    },
    {
      "cell_type": "code",
      "source": [
        "x = gradient_descent1(expr,alpha,start,max_iter)\n",
        "X_arr = np.array(x)\n",
        "x_cordinate = np.linspace(-5,5,100)\n",
        "pyplot.plot(x_cordinate,objective(x_cordinate))\n",
        "X_arr = np.array(x)\n",
        "pyplot.plot(X_arr, objective(X_arr), '.-', color='red')\n",
        "pyplot.show()"
      ],
      "metadata": {
        "colab": {
          "base_uri": "https://localhost:8080/",
          "height": 265
        },
        "id": "ETn9r6HHuoDX",
        "outputId": "d9683a77-b087-4fad-fb74-3e0db54e533f"
      },
      "execution_count": null,
      "outputs": [
        {
          "output_type": "display_data",
          "data": {
            "text/plain": [
              "<Figure size 432x288 with 1 Axes>"
            ],
            "image/png": "[encoded data removed]"
          },
          "metadata": {
            "needs_background": "light"
          }
        }
      ]
    },
    {
      "cell_type": "code",
      "source": [],
      "metadata": {
        "id": "QB-GgM2kvG1m"
      },
      "execution_count": null,
      "outputs": []
    }
  ]
}